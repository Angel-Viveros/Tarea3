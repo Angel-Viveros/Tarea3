{
  "nbformat": 4,
  "nbformat_minor": 0,
  "metadata": {
    "colab": {
      "name": "Tarea 3.ipynb",
      "provenance": [],
      "collapsed_sections": []
    },
    "kernelspec": {
      "name": "python3",
      "display_name": "Python 3"
    },
    "language_info": {
      "name": "python"
    }
  },
  "cells": [
    {
      "cell_type": "code",
      "metadata": {
        "id": "3y3bDBC7P1Qv"
      },
      "source": [
        "\n",
        "menu_select= (\"mesa=3\", \"comensal=2\", \"entrada=Ensalada verde\", \"medio=crema de zanahoria\", \"fuerte=filete\", \"adicionales=Filete término medio, la ensalada sin ningun tipo de semilla, Adereso Ranch\")\n",
        "\n",
        "print (\"Detalle:\")\n",
        "for menu_select in menu_select:\n",
        "    print(\"                  \" + menu_select )"
      ],
      "execution_count": null,
      "outputs": []
    }
  ]
}